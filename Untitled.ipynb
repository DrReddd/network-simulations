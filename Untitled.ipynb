{
 "cells": [
  {
   "cell_type": "markdown",
   "metadata": {},
   "source": [
    "# Simulating networks, and examining basic properties\n",
    "\n",
    "## General purpuses of the project:\n",
    "\n",
    "I will go through how to generate simple types of networks using python, then through comparing metrics, and visualizing the networks i reflect on the main differences, that occur, whenever we start from a different model to generate the networks.\n",
    "\n",
    "Note, that this is a personal project for a course, the methods are mostly written by me without much source on how to optimally write the algorithms, therefore the functions here are not neceserraly optimal in speed, or in memory usage.\n",
    "\n",
    "First some words on the packages used in the project: there are five main packages used: numpy for operations on vectors and matricies, matplotlib for plotting, scipy for statistical analysis if needed, networkx mainly to visualize the networks, and tqdm for an easy progress bar for possibly longer operations."
   ]
  },
  {
   "cell_type": "code",
   "execution_count": null,
   "metadata": {},
   "outputs": [],
   "source": [
    "import numpy as np\n",
    "import matplotlib.pyplot as plt\n",
    "from matplotlib.colors import LinearSegmentedColormap\n",
    "import scipy.stats as stats\n",
    "import networkx as nx\n",
    "from tqdm import tqdm"
   ]
  },
  {
   "cell_type": "markdown",
   "metadata": {},
   "source": [
    "## Random networks and its properties:\n",
    "\n",
    "In its most basic setting a network consists of nodes and edges, and as long as we are only talking about a structure where nodes are connected through edges we can use the terms graph and network interchangeably. \n",
    "\n",
    "First i will introduce the random network from the simulation point of view. The definition follows as: we start with $n$ node, and between each and every pair of nodes we generate an edge with a probability $p$.\n",
    "\n",
    "This method will in fact generate a network, but what can we say about this network? One core concept is the degree distribution of a given network. In this case the appropriate question is: What is the probability, that a given node in the generated network will have exactly k degrees (k other nodes connected to it). According to our model for a given node $N_1$ an other node $N_i$ can connect with probability $p$ and cannot connect with probability $1-p$. This describes a Bernoulli random variable with parameter $p$. Since for a given node we have $n-1$ other nodes, our original question translates to summing up $n-1$ i.i.d. Bernoulli random variables, which translates to a Binomial random variable with parameters $p$, $n-1$.\n",
    "Now we can say something about the expected number of degrees ($\\lambda$) in this network, which is $p(n-1)$. \n",
    "\n",
    "There is one other discreet distribution we'll have to discuss briefly for the first simulation: The Poisson distribution. In the binomial distribution as $n$ goes to infinity and $p$ goes to 0 we arrive at the Poission ditribution in the limit. In fact if $n>>p$, the probability mass function of the two distribution is virtually the same. \n",
    "Since the only parameter needed to describe a Poission distribution in the case of our network is $\\lambda$ (the same $\\lambda$ which gives the expected number of degrees in the binomial distribution. Since the expected number of degrees in a Poission distributed network is the same as the parameter, which is $\\lambda$, this leads two the same expected nuber of degrees in the two distributions.), it is easier to work with. \n",
    "\n",
    "We will simulate a random network, and plot its exact distribution of its degrees, and we will comapre it with the theoretic distributions describing it: the Binomial and Poission. While for $n>>p$ we should see the same behaviour, when p is becoming larger we should see the difference between the the two distributions, and we'll see which one fits onto the exact distribution of the network.\n",
    "\n",
    "The probability mass functions of the two distributions:\n",
    "\n",
    "\\begin{equation}\n",
    "X \\sim Binom((n-1), p) \\qquad P(X=k) = {n-1 \\choose k}p^k(1-p)^{n-1-k}\n",
    "\\end{equation}\n",
    "\n",
    "\\begin{equation}\n",
    "X \\sim Pois(\\lambda) \\qquad P(X=k) = \\dfrac{\\lambda^k e^{-\\lambda}}{k!}\n",
    "\\end{equation}\n",
    "\n",
    "Before the simulation i will describe the elements of the program briefly:\n",
    "\n"
   ]
  },
  {
   "cell_type": "markdown",
   "metadata": {},
   "source": [
    "## Classes and methods\n",
    "\n",
    "### Node:\n",
    "\n",
    "The structure will not be optimal for speed, but it provides a logical way to store a network. It will resemble an adjacency list, where every node has a list of its neighbours.\n",
    "\n",
    "Every node in the network is an object which will contain its neigbours in a set. There is a method to add a neighbour (add an edge to an other node), and a method which returns the number of degrees the node has, a node can have itself as a neigbour, in that case that edge constitues two degrees to the total number of degrees instead of one.\n",
    "\n",
    "Code:"
   ]
  },
  {
   "cell_type": "code",
   "execution_count": null,
   "metadata": {},
   "outputs": [],
   "source": [
    "class Node:\n",
    "\n",
    "    def __init__(self):\n",
    "        self.neighbours = set()\n",
    "\n",
    "    def addneighbour_2way(self, other_node):\n",
    "        self.neighbours.add(other_node)\n",
    "        other_node.neighbours.add(self)\n",
    "\n",
    "    def num_of_degrees(self):\n",
    "        degrees = 0\n",
    "        for node in self.neighbours:\n",
    "            if node is self:\n",
    "                degrees += 2\n",
    "            else:\n",
    "                degrees += 1\n",
    "        return degrees\n"
   ]
  },
  {
   "cell_type": "markdown",
   "metadata": {},
   "source": [
    "### Graph\n",
    "\n",
    "This will be a bigger class called Graph, which describes a complete network, methods therefore will be added in separate blocks outside of the class (this is a bad practice, but to break up the code into separate cells we must resort to it).\n",
    "\n",
    "Graph will contain all nodes the network has in a list, the total number of the nodes the network has, we will initialize a list of degrees, where the $k$th elementh of the list will describe how much node has exactly $k$ degrees in the network. We will initialize the other parameters needed to generate networks. For the random network we need the number of nodes, and $p$, or alternatively $\\lambda$. The methods will use $\\lambda$, in the program named as \"poisson_mean\", since \"lambda\" has an other general purpuse in python. The last parameter in the initialization (\"barabasi_m\") will be only needed later, for the Barabasi-Albert-Model.\n",
    "\n",
    "Basically, when an object of type Graph is initialized, it will create a network of $n$ nodes without any connections between them."
   ]
  },
  {
   "cell_type": "code",
   "execution_count": null,
   "metadata": {},
   "outputs": [],
   "source": [
    "class Graph:\n",
    "\n",
    "    def __init__(self, number_of_nodes):\n",
    "        self.number_of_nodes = number_of_nodes  # total number of nodes\n",
    "        self.list_of_nodes = [Node() for i in range(number_of_nodes)]  # list of nodes in the network\n",
    "        self.degree_list = np.array([0 for i in range(number_of_nodes)])  # list of degrees\n",
    "        self.poisson_mean = 1  # lambda, the mean of a Poission random variable\n",
    "        self.barabasi_m = 1  # m for Barabasi modell\n"
   ]
  },
  {
   "cell_type": "markdown",
   "metadata": {},
   "source": [
    "### Adding a method to generate a random network\n",
    "\n",
    "This is the method, which generates a random network. For computational purpuses there is an option which only generates an adjacency matrix of nodes, and from that fills in the list of degrees, which is needed for plotting the degree distribution, this can be turned on, with setting \"only_matrix\" to True."
   ]
  },
  {
   "cell_type": "code",
   "execution_count": null,
   "metadata": {},
   "outputs": [],
   "source": [
    "def generate_randomgraph(self, poisson_mean, only_matrix=False):\n",
    "    \n",
    "        print(\"Generating matrix... \\n\")\n",
    "        self.poisson_mean = poisson_mean  # mean of the Poission distribution\n",
    "        p = poisson_mean / (self.number_of_nodes-1)  # mean of the Binomial distribution\n",
    "        \n",
    "        # building a neighbourhood matrix\n",
    "        network_matrix = np.random.uniform(0, 1, (self.number_of_nodes, self.number_of_nodes))\n",
    "        network_matrix[np.where(network_matrix <= p)] = 1\n",
    "        network_matrix[np.where(network_matrix != 1)] = 0\n",
    "        network_matrix = np.triu(network_matrix, 1)\n",
    "        m = np.where(network_matrix == 1)\n",
    "        print(\"Generation done \\n\")\n",
    "        \n",
    "        # building a network of objects in the list of nodes in Graph\n",
    "        if only_matrix is False:\n",
    "            with tqdm(total=m[0].shape[0]) as pbar:\n",
    "                for count in range(m[0].shape[0]):\n",
    "                    pbar.update(1)\n",
    "                    self.list_of_nodes[m[0][count]].addneighbour_2way(self.list_of_nodes[m[1][count]])\n",
    "        \n",
    "        # filling in the list of degrees\n",
    "        for row in network_matrix + network_matrix.transpose():\n",
    "            self.degree_list[int(np.sum(row))] += 1\n",
    "\n",
    "Graph.generate_randomgraph= generate_randomgraph # adding the function as a method to the Graph class"
   ]
  },
  {
   "cell_type": "markdown",
   "metadata": {},
   "source": [
    "Now let's generate a network with $n = 1000$ nodes and $\\lambda = p(n-1) = 3$."
   ]
  },
  {
   "cell_type": "code",
   "execution_count": null,
   "metadata": {},
   "outputs": [],
   "source": [
    "graph = Graph(1000)\n",
    "graph.generate_randomgraph(3)"
   ]
  },
  {
   "cell_type": "markdown",
   "metadata": {},
   "source": [
    "We can get the number of nodes for example, or how much nodes have degree 2 in the network as follows:"
   ]
  },
  {
   "cell_type": "code",
   "execution_count": null,
   "metadata": {},
   "outputs": [],
   "source": [
    "print(f\"Number of nodes in the network: {graph.number_of_nodes}\")\n",
    "print(f\"Number of nodes with degree 2: {graph.degree_list[2]}\")"
   ]
  },
  {
   "cell_type": "markdown",
   "metadata": {},
   "source": [
    "### Adding a method to plot the distribution of the degrees of nodes in a network:\n",
    "\n",
    "We will add a method to plot the degree distribution of the random network we generated, and also to plot the according Binomial, and Poission distributions:"
   ]
  },
  {
   "cell_type": "code",
   "execution_count": null,
   "metadata": {},
   "outputs": [],
   "source": [
    "def plot_degrees_random(self):\n",
    "        mean = self.poisson_mean\n",
    "        var = self.poisson_mean\n",
    "        \n",
    "        # somewhat ad-hoc minimum and maximum for the x axis:\n",
    "        minimum = max(int(mean) - int(var**0.5 * 4), 0)\n",
    "        maximum = min(max(int(mean) + int(var**0.5 * 4), 20), self.number_of_nodes)\n",
    "        x_range = np.arange(minimum, maximum)\n",
    "\n",
    "        fig, ax = plt.subplots(1, 1, figsize=(10,10))\n",
    "        plt.plot(x_range, (self.degree_list[minimum:maximum]) / self.number_of_nodes, \".\",\n",
    "                 label=\"Simulated\")\n",
    "        plt.plot(x_range,\n",
    "                 stats.poisson.pmf(x_range, mean), \"-\",\n",
    "                 label=\"Poisson\")\n",
    "        plt.plot(x_range,\n",
    "                 stats.binom.pmf(x_range, self.number_of_nodes-1, mean / (self.number_of_nodes-1)), \"-\",\n",
    "                 label=\"Binomial\")\n",
    "        plt.xlabel(\"Number of degrees\")\n",
    "        plt.ylabel(\"Probability\")\n",
    "        ax.legend()\n",
    "        plt.show()\n",
    "        \n",
    "Graph.plot_degrees_random = plot_degrees_random"
   ]
  },
  {
   "cell_type": "markdown",
   "metadata": {},
   "source": [
    "Let's see how it works with the network we generated before:"
   ]
  },
  {
   "cell_type": "code",
   "execution_count": null,
   "metadata": {},
   "outputs": [],
   "source": [
    "graph.plot_degrees_random()"
   ]
  },
  {
   "cell_type": "markdown",
   "metadata": {},
   "source": [
    "Let's generate different networks of size 10000, with larger and larger $\\lambda$. \n",
    "\n",
    "Firstly, $\\lambda = 0.1$\n",
    "\n",
    "We should see, that the simulated values fit on the Binomial distribution, and that the Binomial and Poission distribution will be nearly identical."
   ]
  },
  {
   "cell_type": "code",
   "execution_count": null,
   "metadata": {},
   "outputs": [],
   "source": [
    "graph = Graph(10000)\n",
    "graph.generate_randomgraph(0.1, only_matrix=True)\n",
    "graph.plot_degrees_random()"
   ]
  },
  {
   "cell_type": "markdown",
   "metadata": {},
   "source": [
    "$\\lambda = 1$: "
   ]
  },
  {
   "cell_type": "code",
   "execution_count": null,
   "metadata": {},
   "outputs": [],
   "source": [
    "graph = Graph(10000)\n",
    "graph.generate_randomgraph(1, only_matrix=True)\n",
    "graph.plot_degrees_random()"
   ]
  },
  {
   "cell_type": "markdown",
   "metadata": {},
   "source": [
    "$\\lambda = 100$: "
   ]
  },
  {
   "cell_type": "code",
   "execution_count": null,
   "metadata": {},
   "outputs": [],
   "source": [
    "graph = Graph(10000)\n",
    "graph.generate_randomgraph(100, only_matrix=True)\n",
    "graph.plot_degrees_random()"
   ]
  },
  {
   "cell_type": "markdown",
   "metadata": {},
   "source": [
    "$\\lambda = 1000$: 1000 is not much bigger than 10000, we should see some difference in the Poission and binomial, but it will not be clear which distribution models the exact values best, because of the noise from randomization in the simulation."
   ]
  },
  {
   "cell_type": "code",
   "execution_count": null,
   "metadata": {},
   "outputs": [],
   "source": [
    "graph = Graph(10000)\n",
    "graph.generate_randomgraph(1000, only_matrix=True)\n",
    "graph.plot_degrees_random()"
   ]
  },
  {
   "cell_type": "markdown",
   "metadata": {},
   "source": [
    "$\\lambda = 7000$: Here it will be clear how the Poission fails to model the degree distribution of the network"
   ]
  },
  {
   "cell_type": "code",
   "execution_count": null,
   "metadata": {},
   "outputs": [],
   "source": [
    "graph = Graph(10000)\n",
    "graph.generate_randomgraph(7000, only_matrix=True)\n",
    "graph.plot_degrees_random()"
   ]
  },
  {
   "cell_type": "markdown",
   "metadata": {},
   "source": [
    "### Visualizing the network, and sizes of clusters\n",
    "\n",
    "#### Clusters\n",
    "\n",
    "The following method will return a list of the sizes of clusters in a network in reverse order, and plot a histogram of them. The method is loosely based on the breadth-first search algorithm:"
   ]
  },
  {
   "cell_type": "code",
   "execution_count": null,
   "metadata": {},
   "outputs": [],
   "source": [
    "def clusters(self):\n",
    "    clusters = list()\n",
    "    visited = [False] * self.number_of_nodes\n",
    "    queue = list()\n",
    "    \n",
    "    for count, node in enumerate(self.list_of_nodes):\n",
    "        sum_before = sum(visited)\n",
    "        \n",
    "        if visited[count] is False:\n",
    "            queue.append(self.list_of_nodes[count])\n",
    "            visited[count] = True\n",
    "            \n",
    "            while queue:\n",
    "                popped = queue.pop(0)\n",
    "                \n",
    "                for count2, neighbour in enumerate(popped.neighbours):\n",
    "                    \n",
    "                    if visited[self.list_of_nodes.index(neighbour)] is False:\n",
    "                        queue.append(neighbour)\n",
    "                        visited[self.list_of_nodes.index(neighbour)] = True\n",
    "                        \n",
    "                if sum(visited) == len(visited):\n",
    "                    break\n",
    "                    \n",
    "        clusters.append(sum(visited)-sum_before)\n",
    "        \n",
    "    clusters.sort(reverse=True)\n",
    "    clusters = clusters[0:clusters.index(0)]\n",
    "    #print(f\"Sizes of the {len(clusters)} cluster(s) in the network: \", clusters)\n",
    "    fig, ax = plt.subplots(1, 1, figsize=(10,10))\n",
    "    ax.ticklabel_format(useOffset=False)\n",
    "    plt.hist(clusters, bins = min(max(clusters)-1, 60))\n",
    "    plt.xlabel(\"Size of cluster\")\n",
    "    plt.ylabel(\"Number of clusters with the given size\")\n",
    "    plt.show()\n",
    "    return clusters\n",
    "\n",
    "Graph.clusters = clusters"
   ]
  },
  {
   "cell_type": "markdown",
   "metadata": {},
   "source": [
    "Using the function above we can examine if there is a huge cluster dominating the network, or if the network consists of severeal smaller clusters. First we examine the case, where $\\lambda < 1$, these networks are called subcritical: "
   ]
  },
  {
   "cell_type": "code",
   "execution_count": null,
   "metadata": {},
   "outputs": [],
   "source": [
    "graph = Graph(1000)\n",
    "graph.generate_randomgraph(0.5)\n",
    "clusters = graph.clusters()\n",
    "#print(f\"Sizes of the {len(clusters)} cluster(s) in the network: \", clusters)  # uncomment for printing the list of cluster sizes"
   ]
  },
  {
   "cell_type": "markdown",
   "metadata": {},
   "source": [
    "We can see, that most \"clusters\" only consist of one node, and the biggest cluster is far smaller, than the number of nodes in the network. There is a critical point, when $\\lambda = 1$:"
   ]
  },
  {
   "cell_type": "code",
   "execution_count": null,
   "metadata": {},
   "outputs": [],
   "source": [
    "graph = Graph(1000)\n",
    "graph.generate_randomgraph(1)\n",
    "clusters = graph.clusters()\n",
    "#print(f\"Sizes of the {len(clusters)} cluster(s) in the network: \", clusters)  # uncomment for printing the list of cluster sizes"
   ]
  },
  {
   "cell_type": "markdown",
   "metadata": {},
   "source": [
    "Here lots of nodes have no connections to other nodes, but the biggest cluster is considerably bigger, than before. Now we will enter into the realm of supercritical networks, where $\\lambda > 1$:"
   ]
  },
  {
   "cell_type": "code",
   "execution_count": null,
   "metadata": {},
   "outputs": [],
   "source": [
    "graph = Graph(1000)\n",
    "graph.generate_randomgraph(3)\n",
    "clusters = graph.clusters()\n",
    "#print(f\"Sizes of the {len(clusters)} cluster(s) in the network: \", clusters)  # uncomment for printing the list of cluster sizes"
   ]
  },
  {
   "cell_type": "markdown",
   "metadata": {},
   "source": [
    "As we can see, the network has one huge cluster dominating, while some nodes are left separate from the others. If we set $\\lambda >> ln(n)$, then we should see a fully connected network:"
   ]
  },
  {
   "cell_type": "code",
   "execution_count": null,
   "metadata": {},
   "outputs": [],
   "source": [
    "graph = Graph(1000)\n",
    "graph.generate_randomgraph(12)\n",
    "clusters = graph.clusters()\n",
    "#print(f\"Sizes of the {len(clusters)} cluster(s) in the network: \", clusters)  # uncomment for printing the list of cluster sizes"
   ]
  },
  {
   "cell_type": "markdown",
   "metadata": {},
   "source": [
    "#### Visualization:\n",
    "\n",
    "The following method will provide a visualization for a given network, nodes with more degrees will have a slightly bigger size, and different color, the major work is done by the networkx library. There are several layouts (algorithms on how to spread the nodes and edges) included in the library, this and how the colors, and sizes of the nodes will change based on the degrees are both changeable in this method. Without changing the code, the average sizes of the nodes can be changed as a parameter, when the method is called (default is 50): "
   ]
  },
  {
   "cell_type": "code",
   "execution_count": null,
   "metadata": {},
   "outputs": [],
   "source": [
    "def plot_network(self, default_node_size = 50):\n",
    "    #  Building the nx.Graph object:\n",
    "    graph = nx.Graph()\n",
    "\n",
    "    for count, node in enumerate(self.list_of_nodes):\n",
    "        graph.add_node(count, size=len(node.neighbours))\n",
    "\n",
    "    for count, node in enumerate(self.list_of_nodes):\n",
    "        for count2 in range(count, len(self.list_of_nodes)):\n",
    "            if self.list_of_nodes[count2] in node.neighbours:\n",
    "                graph.add_edge(count, count2, weight=1)\n",
    "                \n",
    "    #  Providing a colormap for changing colors depending on the number of degrees:\n",
    "    d = dict(graph.degree)\n",
    "    colormapp = list()\n",
    "    for degree in d.keys():\n",
    "        colormapp.append((0, d[degree] / max(d.values()) * 0.9 + 0.1, 0.8))\n",
    "    \n",
    "    #  Plotting, the inner method uses matplotlib:\n",
    "    fig, ax = plt.subplots(1, 1, figsize=(13,10))\n",
    "    nx.draw_networkx(graph, with_labels=False, nodelist=d.keys(),\n",
    "                     node_size=[default_node_size * (2 * v + 1) / max(self.poisson_mean/10, 1) for v in d.values()], alpha=0.8,\n",
    "                     pos=nx.spring_layout(graph, k=1 / np.sqrt(self.number_of_nodes / 2)),\n",
    "                     node_color=colormapp)\n",
    "    \n",
    "    colormap_unique = list()\n",
    "    for colors in colormapp:\n",
    "        if colors not in colormap_unique:\n",
    "            colormap_unique.append(colors)\n",
    "    \n",
    "    cm = LinearSegmentedColormap.from_list(\"colormap\", sorted(colormap_unique, key = lambda x: x[1]), N=256)\n",
    "    sm = plt.cm.ScalarMappable(cmap=cm, norm=plt.Normalize(vmin=min(d.values())-0.5, vmax=max(d.values())+0.5))\n",
    "    sm._A = []\n",
    "    cb = plt.colorbar(sm)\n",
    "    cb.set_label('Number of degrees')\n",
    "    plt.show()\n",
    "\n",
    "Graph.plot_network = plot_network"
   ]
  },
  {
   "cell_type": "markdown",
   "metadata": {},
   "source": [
    "Now we will go through the previous examples on a network consisting of 100 nodes. When $\\lambda < 1$:"
   ]
  },
  {
   "cell_type": "code",
   "execution_count": null,
   "metadata": {},
   "outputs": [],
   "source": [
    "graph = Graph(100)\n",
    "graph.generate_randomgraph(0.5)\n",
    "graph.plot_network()"
   ]
  },
  {
   "cell_type": "markdown",
   "metadata": {},
   "source": [
    "$\\lambda = 1$:"
   ]
  },
  {
   "cell_type": "code",
   "execution_count": null,
   "metadata": {},
   "outputs": [],
   "source": [
    "graph = Graph(100)\n",
    "graph.generate_randomgraph(1)\n",
    "graph.plot_network()"
   ]
  },
  {
   "cell_type": "markdown",
   "metadata": {},
   "source": [
    "$\\lambda > 1$:"
   ]
  },
  {
   "cell_type": "code",
   "execution_count": null,
   "metadata": {},
   "outputs": [],
   "source": [
    "graph = Graph(100)\n",
    "graph.generate_randomgraph(3)\n",
    "graph.plot_network()"
   ]
  },
  {
   "cell_type": "markdown",
   "metadata": {},
   "source": [
    "$\\lambda >> ln(100)$:"
   ]
  },
  {
   "cell_type": "code",
   "execution_count": null,
   "metadata": {},
   "outputs": [],
   "source": [
    "graph = Graph(100)\n",
    "graph.generate_randomgraph(12)\n",
    "graph.plot_network()"
   ]
  },
  {
   "cell_type": "markdown",
   "metadata": {},
   "source": [
    "## A scale-free network\n",
    "\n",
    "### Barabasi-Albert modell\n",
    "\n",
    "Now that we saw how random networks behave, we will turn to another method to generate networks. In this model we start with a given network, possibly with an empty node, and in every turn we will add a new node, which makes $m$ connections. The probability of a new node connecting to an existing node will be linearly dependent of the degrees of the existing nodes. This models a mechanism, where each new node prefers to connect to nodes, which have more neighbours. This preferential attachment translates to many real-world networks, for example the Internet: webpages, that are already linked to by many other pages have more chance to be linked by a new page, just because they are much easier to find.\n",
    "\n",
    "The following method implements the linearized chord diagram, which is a way to generate a network with preferential attachment. We start from a given graph, and add a node with $m$ new connections. For example if $m = 1$, a new node $N_t$ will connect to another node $N_i$ with $p_i \\propto k_i$ where $k_i$ is the number of degrees of $N_i$, and it will connect to itself with $p_t \\propto 1$. If we start from an empty node, it is easy to see, that generating a network with $n$ total nodes, and $m=1$ will lead to a network, where the number of total edges is exactly $n$. For simplicity, the method will always start form an empty node connecting to itself.\n",
    "\n",
    "Adding the method to the Graph class:"
   ]
  },
  {
   "cell_type": "code",
   "execution_count": null,
   "metadata": {},
   "outputs": [],
   "source": [
    "def generate_barabasi(self, m):\n",
    "    sumdegrees = 1\n",
    "    self.barabasi_m = m\n",
    "    self.list_of_nodes[0].addneighbour_2way(self.list_of_nodes[0])\n",
    "    with tqdm(total=self.number_of_nodes) as pbar:\n",
    "\n",
    "        for count, node in enumerate(self.list_of_nodes):\n",
    "            pbar.update(1)\n",
    "\n",
    "            for i in range(m):\n",
    "                if count >= 1:\n",
    "                    rnd_value = 0\n",
    "                    border = np.random.uniform(0, 1)\n",
    "                    joined_to_other = False\n",
    "\n",
    "                    for count2, other_node in enumerate(self.list_of_nodes[0:count]):\n",
    "                        rnd_value += other_node.num_of_degrees() / (2 * sumdegrees - 1)\n",
    "                        if rnd_value > border:\n",
    "                            node.addneighbour_2way(other_node)\n",
    "                            joined_to_other = True\n",
    "                            break\n",
    "\n",
    "                    if joined_to_other is False:\n",
    "                        node.addneighbour_2way(node)\n",
    "\n",
    "                sumdegrees += 1\n",
    "\n",
    "    for node in self.list_of_nodes:\n",
    "        self.degree_list[node.num_of_degrees()] += 1\n",
    "        \n",
    "Graph.generate_barabasi = generate_barabasi"
   ]
  },
  {
   "cell_type": "markdown",
   "metadata": {},
   "source": [
    "Let's generate a network based on this model with size 1000, and $m = 1$:"
   ]
  },
  {
   "cell_type": "code",
   "execution_count": null,
   "metadata": {},
   "outputs": [],
   "source": [
    "graph = Graph(1000)\n",
    "graph.generate_barabasi(1)"
   ]
  },
  {
   "cell_type": "markdown",
   "metadata": {},
   "source": [
    "Let's see if the total number of edges is indeed 1000, and ask how many nodes have degree 2:"
   ]
  },
  {
   "cell_type": "code",
   "execution_count": null,
   "metadata": {},
   "outputs": [],
   "source": [
    "print(f\"Number of edges in the network: {sum([node.num_of_degrees() for node in graph.list_of_nodes])/2}\")\n",
    "print(f\"Number of nodes with degree 2: {graph.degree_list[2]}\")"
   ]
  },
  {
   "cell_type": "markdown",
   "metadata": {},
   "source": [
    "Now if we would plot the degree distribution of this network against the Binomial and Poission distribution, we should see substantial differences:"
   ]
  },
  {
   "cell_type": "code",
   "execution_count": null,
   "metadata": {},
   "outputs": [],
   "source": [
    "graph.plot_degrees_random()"
   ]
  },
  {
   "cell_type": "markdown",
   "metadata": {},
   "source": [
    "### Degree distribution\n",
    "\n",
    "With a slightly complicated calculation we can get the exact degree distribution of a network generated by the Barabasi-Albert model. This leads to the following: the probability, that a given node has exactly $k$ degrees is: $p_k = \\dfrac{2m(m+1)}{k(k+1)(k+2)} \\approx 2m^2k^{-3}$ \n",
    "\n",
    "This means, that the network's degree distribution follows a power law approximately. This is the main property of scale-free networks. Networks, where the degree distribution follows a power law are called scale-free. The term scale-free comes from the fact, that from a scale-free network a randomly chosen node's number of degrees can strongly differ from the expected number of degrees. Mathematically this can be seen from analysing how the second moment of a power-law distribution behaves, when the size of the network can be arbitrarily large.\n",
    "\n",
    "We can plot the simulated values of the generated network, and the two theoretical distribution described above, to see how they look like against each other. For visual purpouses we will plot them on a log-log scale, on which a power-law distribution should look linear. Since the binning here will be linear, we will see the simulated values forming vertical lines, for bigger degrees, therefore a second plot, showing the cumulative distributions will be added to see precisily which theoretic distribution fits the simulated values.\n",
    "\n",
    "Now we add the plotting method to the Graph class:"
   ]
  },
  {
   "cell_type": "code",
   "execution_count": null,
   "metadata": {},
   "outputs": [],
   "source": [
    "def plot_degrees_barabasi(self):\n",
    "    mean = self.poisson_mean\n",
    "    var = self.poisson_mean\n",
    "    minimum = max(int(mean) - int(var * 1.5), self.barabasi_m)\n",
    "    maximum = min(300, self.number_of_nodes)\n",
    "    x_range = np.arange(minimum, maximum)\n",
    "\n",
    "    fig, (ax1, ax2) = plt.subplots(1, 2, figsize=(20,10))\n",
    "    with np.errstate(divide='ignore'):\n",
    "        ax2.plot(np.log(x_range), np.log(np.cumsum(self.degree_list[minimum:maximum]) / np.sum(self.degree_list)), \".\",\n",
    "                 label=\"simulated\")\n",
    "    ax2.plot(np.log(x_range),\n",
    "             np.log(np.cumsum(2 * self.barabasi_m * (self.barabasi_m + 1) / (x_range * (x_range + 1) * (x_range + 2)))), \"-\",\n",
    "             label=\"exact_distribution\")\n",
    "    ax2.plot(np.log(x_range),\n",
    "             np.log(np.cumsum(2 * self.barabasi_m ** 2 * np.power(np.array(x_range, dtype=\"float32\"), -3))), \"-\",\n",
    "             label=\"power_law\")\n",
    "    ax2.plot(np.log(x_range), [0 for i in x_range], \"--\", alpha=0.5, color=\"black\", label=\"y=0\")\n",
    "    ax2.set_xlabel(\"ln(Number of degrees)\")\n",
    "    ax2.set_ylabel(\"ln(Probability)\")\n",
    "    ax2.set_title(\"Cumulative\")\n",
    "\n",
    "    ax2.legend()\n",
    "    \n",
    "    with np.errstate(divide='ignore'):\n",
    "        ax1.plot(np.log(x_range), np.log(self.degree_list[minimum:maximum] / np.sum(self.degree_list)), \".\",\n",
    "                 label=\"simulated\")\n",
    "    ax1.plot(np.log(x_range),\n",
    "             np.log(2 * self.barabasi_m * (self.barabasi_m + 1) / (x_range * (x_range + 1) * (x_range + 2))), \"-\",\n",
    "             label=\"exact_distribution\")\n",
    "    ax1.plot(np.log(x_range),\n",
    "             np.log(2 * self.barabasi_m ** 2 * np.power(np.array(x_range, dtype=\"float32\"), -3)), \"-\",\n",
    "             label=\"power_law\")\n",
    "    ax1.set_xlabel(\"ln(Number of degrees)\")\n",
    "    ax1.set_ylabel(\"ln(Probability)\")\n",
    "    ax1.set_title(\"Normal\")\n",
    "\n",
    "    ax1.legend()\n",
    "    plt.show()\n",
    "    \n",
    "Graph.plot_degrees_barabasi = plot_degrees_barabasi"
   ]
  },
  {
   "cell_type": "markdown",
   "metadata": {},
   "source": [
    "Let's generate a network with size 10000, and $m=1$, and plot it:"
   ]
  },
  {
   "cell_type": "code",
   "execution_count": null,
   "metadata": {},
   "outputs": [],
   "source": [
    "graph = Graph(10000)\n",
    "graph.generate_barabasi(1)\n",
    "graph.plot_degrees_barabasi()"
   ]
  },
  {
   "cell_type": "markdown",
   "metadata": {},
   "source": [
    "There are several things to see here. First the distribution described by the power law is not a probability distribution, as it does not integrate to one, this can be seen on the cumulative plot (a real distribution should never go above the $y=0$ line in this plot). Although it is not a real distribution, the shape of the function is still approximately the same as the exact distribution, meaning that the power law describes a function which is proportional to the real degree distribution of the network as the number of degrees goes large. This also can be seen on the first plot, where the two theoretical distributions become paralell, when the number of degrees is large enough."
   ]
  },
  {
   "cell_type": "markdown",
   "metadata": {},
   "source": [
    "### Clusters\n",
    "\n",
    "We have a method to plot a histogram of the sizes of clusters in the network, so we can compare a random network and a Barabasi-Albert network from this point of view. To get two networks consisting of 1000 nodes with approximately the same number of edges, the random network will be generated with $\\lambda = 2$, and the Barabasi-Albert network will be generated with $m=1$:"
   ]
  },
  {
   "cell_type": "code",
   "execution_count": null,
   "metadata": {},
   "outputs": [],
   "source": [
    "random = Graph(1000)\n",
    "random.generate_randomgraph(2)\n",
    "barabasi = Graph(1000)\n",
    "barabasi.generate_barabasi(1)\n",
    "print(f\"Number of total edges in the random network: {sum([node.num_of_degrees() for node in random.list_of_nodes])/2}\")\n",
    "print(f\"Number of total edges in the scale-free network: {sum([node.num_of_degrees() for node in barabasi.list_of_nodes])/2}\")\n",
    "print(\"\\n Random network:\")\n",
    "clusters_random=random.clusters()\n",
    "print(f\"Sizes of the {len(clusters_random)} cluster(s) in the network: {clusters_random} \\n\")\n",
    "print(\"Barabasi-Albert network:\")\n",
    "clusters_barabasi=barabasi.clusters()\n",
    "print(f\"Sizes of the {len(clusters_barabasi)} cluster(s) in the network: {clusters_barabasi} \\n\")"
   ]
  },
  {
   "cell_type": "markdown",
   "metadata": {},
   "source": [
    "The random network which has approximately the same total edges as a Barabasi-Albert network with the same number of nodes is a supercritical network. This leads to one big cluster in the random network, and a lot of nodes separate from the cluster. In the Barabasi-Albert network, there are a minimal number of nodes not part of a big cluster, and depending on the simulation, there can be several bigger clusters or just one big cluster dominating the network. If there is only one cluster dominating the network, the simulation can be ran again, until a network with more clusters appear."
   ]
  },
  {
   "cell_type": "markdown",
   "metadata": {},
   "source": [
    "### Visualization:\n",
    "\n",
    "Now that we have a way to generate random networks and scale-free networks. The best way to compare them is just to see how they look like. First we generate networks of size 100, and with the same parameter setup, as we did, when we compared the histograms of clusters:"
   ]
  },
  {
   "cell_type": "markdown",
   "metadata": {},
   "source": [
    "Random network:"
   ]
  },
  {
   "cell_type": "code",
   "execution_count": null,
   "metadata": {},
   "outputs": [],
   "source": [
    "graph = Graph(100)\n",
    "graph.generate_randomgraph(2)\n",
    "graph.plot_network()"
   ]
  },
  {
   "cell_type": "markdown",
   "metadata": {},
   "source": [
    "Barabasi-Albert network:"
   ]
  },
  {
   "cell_type": "code",
   "execution_count": null,
   "metadata": {},
   "outputs": [],
   "source": [
    "graph = Graph(100)\n",
    "graph.generate_barabasi(1)\n",
    "graph.plot_network()"
   ]
  },
  {
   "cell_type": "markdown",
   "metadata": {},
   "source": [
    "Random network with 500 nodes:"
   ]
  },
  {
   "cell_type": "code",
   "execution_count": null,
   "metadata": {},
   "outputs": [],
   "source": [
    "graph = Graph(500)\n",
    "graph.generate_randomgraph(2)\n",
    "graph.plot_network(default_node_size = 20)"
   ]
  },
  {
   "cell_type": "markdown",
   "metadata": {},
   "source": [
    "Barabasi-Albert network with 500 nodes:"
   ]
  },
  {
   "cell_type": "code",
   "execution_count": null,
   "metadata": {},
   "outputs": [],
   "source": [
    "graph = Graph(500)\n",
    "graph.generate_barabasi(1)\n",
    "graph.plot_network(default_node_size = 20)"
   ]
  },
  {
   "cell_type": "markdown",
   "metadata": {},
   "source": [
    "In both cases the differences are obvious: in the scale-free network the number of degrees a node has move on a much larger scale. This is a consequence of the power-law distribution. Therefore the scale-free network consists of several hubs, which is called the small-world property. Thsi resembles for example how communities in social networks look like."
   ]
  },
  {
   "cell_type": "code",
   "execution_count": null,
   "metadata": {},
   "outputs": [],
   "source": []
  }
 ],
 "metadata": {
  "kernelspec": {
   "display_name": "Python 3",
   "language": "python",
   "name": "python3"
  },
  "language_info": {
   "codemirror_mode": {
    "name": "ipython",
    "version": 3
   },
   "file_extension": ".py",
   "mimetype": "text/x-python",
   "name": "python",
   "nbconvert_exporter": "python",
   "pygments_lexer": "ipython3",
   "version": "3.8.5"
  }
 },
 "nbformat": 4,
 "nbformat_minor": 4
}
